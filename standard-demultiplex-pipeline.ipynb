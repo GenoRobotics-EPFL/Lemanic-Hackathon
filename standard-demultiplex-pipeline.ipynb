{
 "cells": [
  {
   "cell_type": "markdown",
   "metadata": {},
   "source": [
    "# Jupyter Notebook GenoRobotics Full Pipeline"
   ]
  },
  {
   "cell_type": "markdown",
   "metadata": {},
   "source": [
    "## Imports"
   ]
  },
  {
   "cell_type": "code",
   "execution_count": null,
   "metadata": {},
   "outputs": [],
   "source": [
    "%load_ext autoreload\n",
    "%autoreload 2"
   ]
  },
  {
   "cell_type": "code",
   "execution_count": 1,
   "metadata": {},
   "outputs": [
    {
     "name": "stderr",
     "output_type": "stream",
     "text": [
      "/home/ghassan_unix/anaconda3/envs/genorobotics_pipeline/lib/python3.10/site-packages/Bio/pairwise2.py:278: BiopythonDeprecationWarning: Bio.pairwise2 has been deprecated, and we intend to remove it in a future release of Biopython. As an alternative, please consider using Bio.Align.PairwiseAligner as a replacement, and contact the Biopython developers if you still need the Bio.pairwise2 module.\n",
      "  warnings.warn(\n"
     ]
    }
   ],
   "source": [
    "import os\n",
    "import os.path as ospath\n",
    "from lib.consensus.consensus import run_consensus\n",
    "from lib.identification.identification import run_identification\n",
    "from lib.general_helpers.process_fastq import concatenate_fastq\n",
    "from lib.demultiplexing.run_demultiplexing import run_demultiplexing\n",
    "import os.path as ospath\n",
    "from Bio import SeqIO"
   ]
  },
  {
   "cell_type": "markdown",
   "metadata": {},
   "source": [
    "## Define Your File and Folder Paths\n",
    "\n",
    "Modify `windows` if you're on Windows and want to use WSL from windows (you are not running this code from wsl).\n",
    "Specify whether you want to run the demultiplexing step.\n",
    "\n",
    "If the fastq file you want to choose is part of an expedition, you cna easily choose it by filling in the input expedition folder name and barcode"
   ]
  },
  {
   "cell_type": "code",
   "execution_count": 2,
   "metadata": {},
   "outputs": [],
   "source": [
    "#for choosing a fastq that is part of an expedition easily\n",
    "input_expedition_folder = \"summer_expedition\"\n",
    "barcode_nb = 5\n",
    "windows = False\n",
    "demultiplexing=True\n",
    "genes =[\"matK\",\"psbA-trnH\",\"rbcL\"]"
   ]
  },
  {
   "cell_type": "code",
   "execution_count": 3,
   "metadata": {},
   "outputs": [
    {
     "name": "stdout",
     "output_type": "stream",
     "text": [
      "pipeline will run on file data/summer_expedition/Berberis_aquifolium_matK_rbcL_trnH-psbA_ITS_barcode5/Berberis_aquifoliummatK_rbcL_trnH-psbA_ITS_barcode5.fastq\n",
      "results can be found in output/Berberis_aquifoliummatK_rbcL_trnH-psbA_ITS_barcode5\n"
     ]
    }
   ],
   "source": [
    "input_expedition_path= ospath.join(\"data\", input_expedition_folder)\n",
    "\n",
    "for root, dirs, files in os.walk(input_expedition_path):\n",
    "    if root.endswith(str(f\"barcode{barcode_nb}\")):\n",
    "        input_folder_path = root\n",
    "\n",
    "for _,_, files in os.walk(input_folder_path):\n",
    "    for file in files:\n",
    "        if file.endswith(\".fastq\"):\n",
    "            input_fastq_path = ospath.join(input_folder_path, file)\n",
    "            input_fastq_filename=file\n",
    "        if file.endswith(\".fasta\"):\n",
    "            input_ref_path = ospath.join(input_folder_path, file)\n",
    "        \n",
    "\n",
    "print(f\"pipeline will run on file {input_fastq_path}\")\n",
    "base_name = input_fastq_filename[:-6]\n",
    "\n",
    "output_path = ospath.join(\"output\",base_name)\n",
    "print(f\"results can be found in {output_path}\")"
   ]
  },
  {
   "cell_type": "markdown",
   "metadata": {},
   "source": [
    "If the fastq file you want to choose is not part of an expedition, you can directly fill in its name. **You should run either the previous two cells if it's part of an expedition, or the following cell if it's not, but never the three of them**"
   ]
  },
  {
   "cell_type": "code",
   "execution_count": 6,
   "metadata": {},
   "outputs": [],
   "source": [
    "#for standalone fastq files outside any expedition\n",
    "windows = False\n",
    "demultiplexing=True\n",
    "input_fastq_file = \"Convallaria_magalistrnH-psbA_barcode88.fastq\"\n",
    "input_expedition_folder = None\n",
    "\n",
    "input_fastq_path = ospath.join(\"data\", input_fastq_file)\n",
    "base_name = ospath.splitext(input_fastq_file)[0]\n",
    "output_path = ospath.join(\"output\",base_name)"
   ]
  },
  {
   "cell_type": "markdown",
   "metadata": {},
   "source": [
    "## Quality Control\n",
    "\n",
    "As a control, we check if the fastq file selected contains enough reads, aka. contains more reads than a certain threshold"
   ]
  },
  {
   "cell_type": "code",
   "execution_count": 4,
   "metadata": {},
   "outputs": [
    {
     "name": "stdout",
     "output_type": "stream",
     "text": [
      "Passed control!\n"
     ]
    }
   ],
   "source": [
    "threshold_fastq = 10\n",
    "\n",
    "too_small = True\n",
    "n=0\n",
    "for read in SeqIO.parse(input_fastq_path, \"fastq\"):\n",
    "    n+=1\n",
    "    if n >= threshold_fastq:\n",
    "        too_small = False\n",
    "        break\n",
    "\n",
    "if too_small:\n",
    "    raise ValueError(f\"The fastq file you selected contains {n} reads, less than the set threshold of {threshold_fastq} to run pipeline\")\n",
    "\n",
    "print(\"Passed control!\")\n"
   ]
  },
  {
   "cell_type": "markdown",
   "metadata": {},
   "source": [
    "## Run Demultiplexing"
   ]
  },
  {
   "cell_type": "code",
   "execution_count": 7,
   "metadata": {},
   "outputs": [
    {
     "name": "stdout",
     "output_type": "stream",
     "text": [
      "Logging set up at output/Berberis_aquifoliummatK_rbcL_trnH-psbA_ITS_barcode5/demultiplexing/Berberis_aquifoliummatK_rbcL_trnH-psbA_ITS_barcode5_demultiplexing_pipeline_log.log\n"
     ]
    },
    {
     "ename": "ValueError",
     "evalue": "Your XML file did not start with '<?xml'... but instead '2024-04-27 09:18:10,'",
     "output_type": "error",
     "traceback": [
      "\u001b[0;31m---------------------------------------------------------------------------\u001b[0m",
      "\u001b[0;31mValueError\u001b[0m                                Traceback (most recent call last)",
      "Cell \u001b[0;32mIn[7], line 2\u001b[0m\n\u001b[1;32m      1\u001b[0m demultiplexing_path \u001b[38;5;241m=\u001b[39m ospath\u001b[38;5;241m.\u001b[39mjoin(output_path,\u001b[38;5;124m\"\u001b[39m\u001b[38;5;124mdemultiplexing\u001b[39m\u001b[38;5;124m\"\u001b[39m)\n\u001b[0;32m----> 2\u001b[0m \u001b[43mrun_demultiplexing\u001b[49m\u001b[43m(\u001b[49m\u001b[43mbase_name\u001b[49m\u001b[43m,\u001b[49m\u001b[43minput_fastq_path\u001b[49m\u001b[43m,\u001b[49m\u001b[43mdemultiplexing_path\u001b[49m\u001b[43m,\u001b[49m\u001b[43mgenes\u001b[49m\u001b[38;5;241;43m=\u001b[39;49m\u001b[43mgenes\u001b[49m\u001b[43m)\u001b[49m\n",
      "File \u001b[0;32m~/genorobotics/Lemanic-Hackathon/lib/demultiplexing/run_demultiplexing.py:65\u001b[0m, in \u001b[0;36mrun_demultiplexing\u001b[0;34m(input_name, input_file_path, output_folder, demultiplexing_method, logger, genes)\u001b[0m\n\u001b[1;32m     63\u001b[0m \u001b[38;5;28;01mfor\u001b[39;00m file \u001b[38;5;129;01min\u001b[39;00m files:\n\u001b[1;32m     64\u001b[0m     \u001b[38;5;28;01mif\u001b[39;00m gene \u001b[38;5;129;01min\u001b[39;00m file:\n\u001b[0;32m---> 65\u001b[0m         current_best_id,current_best_evalue,current_best_alignment_score \u001b[38;5;241m=\u001b[39m\u001b[43mget_best_seqid_from_blastn_xml\u001b[49m\u001b[43m(\u001b[49m\u001b[43mospath\u001b[49m\u001b[38;5;241;43m.\u001b[39;49m\u001b[43mjoin\u001b[49m\u001b[43m(\u001b[49m\u001b[43mroot\u001b[49m\u001b[43m,\u001b[49m\u001b[43mfile\u001b[49m\u001b[43m)\u001b[49m\u001b[43m)\u001b[49m\n\u001b[1;32m     66\u001b[0m         \u001b[38;5;28;01mif\u001b[39;00m current_best_evalue \u001b[38;5;241m<\u001b[39m best_evalue \u001b[38;5;129;01mor\u001b[39;00m (current_best_evalue \u001b[38;5;241m==\u001b[39m best_evalue \u001b[38;5;129;01mand\u001b[39;00m current_best_alignment_score \u001b[38;5;241m>\u001b[39m best_alignment_score):\n\u001b[1;32m     67\u001b[0m             best_evalue\u001b[38;5;241m=\u001b[39mcurrent_best_evalue\n",
      "File \u001b[0;32m~/genorobotics/Lemanic-Hackathon/lib/identification/identification_pipelines/identification_processing.py:30\u001b[0m, in \u001b[0;36mget_best_seqid_from_blastn_xml\u001b[0;34m(input_xml)\u001b[0m\n\u001b[1;32m     28\u001b[0m blast_records \u001b[38;5;241m=\u001b[39m NCBIXML\u001b[38;5;241m.\u001b[39mparse(file)\n\u001b[1;32m     29\u001b[0m results \u001b[38;5;241m=\u001b[39m []\n\u001b[0;32m---> 30\u001b[0m \u001b[38;5;28;01mfor\u001b[39;00m blast_record \u001b[38;5;129;01min\u001b[39;00m blast_records:\n\u001b[1;32m     31\u001b[0m     \u001b[38;5;28;01mfor\u001b[39;00m alignment \u001b[38;5;129;01min\u001b[39;00m blast_record\u001b[38;5;241m.\u001b[39malignments:\n\u001b[1;32m     32\u001b[0m         \u001b[38;5;28;01mfor\u001b[39;00m hsp \u001b[38;5;129;01min\u001b[39;00m alignment\u001b[38;5;241m.\u001b[39mhsps:\n",
      "File \u001b[0;32m~/anaconda3/envs/genorobotics_pipeline/lib/python3.10/site-packages/Bio/Blast/NCBIXML.py:810\u001b[0m, in \u001b[0;36mparse\u001b[0;34m(handle, debug)\u001b[0m\n\u001b[1;32m    807\u001b[0m \u001b[38;5;28;01mwhile\u001b[39;00m text:\n\u001b[1;32m    808\u001b[0m     \u001b[38;5;66;03m# We are now starting a new XML file\u001b[39;00m\n\u001b[1;32m    809\u001b[0m     \u001b[38;5;28;01mif\u001b[39;00m \u001b[38;5;129;01mnot\u001b[39;00m text\u001b[38;5;241m.\u001b[39mstartswith(XML_START):\n\u001b[0;32m--> 810\u001b[0m         \u001b[38;5;28;01mraise\u001b[39;00m \u001b[38;5;167;01mValueError\u001b[39;00m(\n\u001b[1;32m    811\u001b[0m             \u001b[38;5;124m\"\u001b[39m\u001b[38;5;124mYour XML file did not start with \u001b[39m\u001b[38;5;132;01m%r\u001b[39;00m\u001b[38;5;124m... but instead \u001b[39m\u001b[38;5;132;01m%r\u001b[39;00m\u001b[38;5;124m\"\u001b[39m\n\u001b[1;32m    812\u001b[0m             \u001b[38;5;241m%\u001b[39m (XML_START, text[:\u001b[38;5;241m20\u001b[39m])\n\u001b[1;32m    813\u001b[0m         )\n\u001b[1;32m    815\u001b[0m     expat_parser \u001b[38;5;241m=\u001b[39m expat\u001b[38;5;241m.\u001b[39mParserCreate()\n\u001b[1;32m    816\u001b[0m     blast_parser \u001b[38;5;241m=\u001b[39m BlastParser(debug)\n",
      "\u001b[0;31mValueError\u001b[0m: Your XML file did not start with '<?xml'... but instead '2024-04-27 09:18:10,'"
     ]
    }
   ],
   "source": [
    "demultiplexing_path = ospath.join(output_path,\"demultiplexing\")\n",
    "run_demultiplexing(base_name,input_fastq_path,demultiplexing_path,genes=genes)"
   ]
  },
  {
   "cell_type": "markdown",
   "metadata": {},
   "source": [
    "## Run Consensus Sequence Generation\n",
    "\n",
    "Select which consensus sequence generation method you want to use by setting the \"consensus_method\" variable to either:\n",
    "\n",
    "- \"majority\" (default)\n",
    "\n",
    "- \"consensus\"\n",
    "\n",
    "- \"consensus_with_ambiguities\""
   ]
  },
  {
   "cell_type": "code",
   "execution_count": null,
   "metadata": {},
   "outputs": [],
   "source": [
    "# choose a consensus method between the following:\n",
    "# - \"80_20_best_sequence\"\n",
    "# - \"80_20_longest_sequence\"\n",
    "# - \"straightforward_best_sequence\"\n",
    "\n",
    "# consensus_method = \"straightforward_best_sequence\"\n",
    "consensus_method = \"80_20_best_sequence\"\n",
    "consensus_output_path= ospath.join(output_path,\"consensus\")\n",
    "file_names= os.listdir(demultiplexing_path)\n",
    "for file in file_names:\n",
    "    if file.endswith(\".fastq\"):\n",
    "        gene_name = ospath.basename(file)[:-6]\n",
    "        demultiplexed_fastq_path=ospath.join(demultiplexing_path,file)\n",
    "        demultiplexed_consensus_fastq_folder_path=ospath.join(consensus_output_path,base_name)\n",
    "        run_consensus(gene_name,demultiplexed_fastq_path,consensus_method,None,demultiplexed_consensus_fastq_folder_path)\n",
    "   \n"
   ]
  },
  {
   "cell_type": "markdown",
   "metadata": {},
   "source": [
    "## Run Identification of Consensus Sequence\n",
    "- Run the following cell to identify the consensus sequence.\n",
    "- Change db to the database you want to use. Options are \"matK\", \"rbcL\", \"psbA-trnH\" and \"ITS\". If you want to use all of them, set db to None."
   ]
  },
  {
   "cell_type": "code",
   "execution_count": null,
   "metadata": {},
   "outputs": [],
   "source": [
    "# choose an identification method between the following:\n",
    "# - \"blastn\"\n",
    "\n",
    "identification_method = \"blastn\"\n",
    "        final_consensus_path= os.path.join(demultiplexed_consensus_fastq_folder_path, f\"{gene_name}_final_consensus.fasta\")\n",
    "        run_identification(base_name,None,)\n",
    "for \n",
    "# Choose your db along the genes you're trying to identify : matK, rbcL, psbA-trnH, ITS\n",
    "db = set(genes)\n",
    "\n",
    "run_identification(base_name,expedition_name=input_expedition_folder, db=db, identification_method=identification_method, windows=windows)\n",
    "\n",
    "print(\"Pipeline finished !\")\n",
    "print(f\"results can be found in {output_path}\")"
   ]
  }
 ],
 "metadata": {
  "kernelspec": {
   "display_name": "base",
   "language": "python",
   "name": "python3"
  },
  "language_info": {
   "codemirror_mode": {
    "name": "ipython",
    "version": 3
   },
   "file_extension": ".py",
   "mimetype": "text/x-python",
   "name": "python",
   "nbconvert_exporter": "python",
   "pygments_lexer": "ipython3",
   "version": "3.10.11"
  }
 },
 "nbformat": 4,
 "nbformat_minor": 2
}
