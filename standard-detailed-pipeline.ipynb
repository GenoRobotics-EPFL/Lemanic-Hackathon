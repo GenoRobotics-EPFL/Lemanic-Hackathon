{
 "cells": [
  {
   "cell_type": "markdown",
   "metadata": {},
   "source": [
    "# Jupyter Notebook GenoRobotics Full Pipeline"
   ]
  },
  {
   "cell_type": "markdown",
   "metadata": {},
   "source": [
    "## Imports"
   ]
  },
  {
   "cell_type": "code",
   "execution_count": 1,
   "metadata": {},
   "outputs": [],
   "source": [
    "%load_ext autoreload\n",
    "%autoreload 2"
   ]
  },
  {
   "cell_type": "code",
   "execution_count": 2,
   "metadata": {},
   "outputs": [],
   "source": [
    "import os\n",
    "import os.path as ospath\n",
    "from lib.consensus.consensus import run_consensus\n",
    "from lib.identification.identification import run_identification\n",
    "from lib.general_helpers.process_fastq import concatenate_fastq\n",
    "import os.path as ospath\n",
    "from Bio import SeqIO"
   ]
  },
  {
   "cell_type": "markdown",
   "metadata": {},
   "source": [
    "## Define Your File and Folder Paths\n",
    "\n",
    "Modify wsl if you're on Windows and want to use WSL from windows (you are not running this code from wsl).\n",
    "\n",
    "If the fastq file you want to choose is part of an expedition, you cna easily choose it by filling in the input expedition folder name and barcode"
   ]
  },
  {
   "cell_type": "code",
   "execution_count": 37,
   "metadata": {},
   "outputs": [],
   "source": [
    "#for choosing a fastq that is part of an expedition easily\n",
    "input_expedition_folder = \"expedition_jardin_botanique\"\n",
    "barcode_nb = 88\n",
    "windows = False"
   ]
  },
  {
   "cell_type": "code",
   "execution_count": 38,
   "metadata": {},
   "outputs": [
    {
     "name": "stdout",
     "output_type": "stream",
     "text": [
      "pipeline will run on file data/expedition_jardin_botanique/Convallaria_magalis_trnH-psbA_barcode88/Convallaria_magalistrnH-psbA_barcode88.fastq\n",
      "results can be found in output/Convallaria_magalistrnH-psbA_barcode88\n"
     ]
    }
   ],
   "source": [
    "input_expedition_path= ospath.join(\"data\", input_expedition_folder)\n",
    "\n",
    "for root, dirs, files in os.walk(input_expedition_path):\n",
    "    if root.endswith(str(f\"barcode{barcode_nb}\")):\n",
    "        input_folder_path = root\n",
    "\n",
    "for _,_, files in os.walk(input_folder_path):\n",
    "    for file in files:\n",
    "        if file.endswith(\".fastq\"):\n",
    "            input_fastq_path = ospath.join(input_folder_path, file)\n",
    "            input_fastq_filename=file\n",
    "        if file.endswith(\".fasta\"):\n",
    "            input_ref_path = ospath.join(input_folder_path, file)\n",
    "        \n",
    "\n",
    "print(f\"pipeline will run on file {input_fastq_path}\")\n",
    "base_name = input_fastq_filename[:-6]\n",
    "\n",
    "output_path = ospath.join(\"output\",base_name)\n",
    "print(f\"results can be found in {output_path}\")"
   ]
  },
  {
   "cell_type": "markdown",
   "metadata": {},
   "source": [
    "If the fastq file you want to choose is not part of an expedition, you can directly fill in its name. **You should run either the previous two cells if it's part of an expedition, or the following cell if it's not, but never the three of them**"
   ]
  },
  {
   "cell_type": "code",
   "execution_count": 11,
   "metadata": {},
   "outputs": [],
   "source": [
    "#for standalone fastq files outside any expedition\n",
    "windows = False\n",
    "input_fastq_file = \"Convallaria_magalistrnH-psbA_barcode88.fastq\"\n",
    "input_expedition_folder = None\n",
    "\n",
    "input_fastq_path = ospath.join(\"data\", input_fastq_file)\n",
    "base_name = ospath.splitext(input_fastq_filename)[0]\n",
    "output_path = ospath.join(\"output\",base_name)"
   ]
  },
  {
   "cell_type": "markdown",
   "metadata": {},
   "source": [
    "## Quality Control\n",
    "\n",
    "As a control, we check if the fastq file selected contains enough reads, aka. contains more reads than a certain threshold"
   ]
  },
  {
   "cell_type": "code",
   "execution_count": 12,
   "metadata": {},
   "outputs": [
    {
     "name": "stdout",
     "output_type": "stream",
     "text": [
      "Passed control!\n"
     ]
    }
   ],
   "source": [
    "threshold_fastq = 10\n",
    "\n",
    "too_small = True\n",
    "n=0\n",
    "for read in SeqIO.parse(input_fastq_path, \"fastq\"):\n",
    "    n+=1\n",
    "    if n >= threshold_fastq:\n",
    "        too_small = False\n",
    "        break\n",
    "\n",
    "if too_small:\n",
    "    raise ValueError(f\"The fastq file you selected contains {n} reads, less than the set threshold of {threshold_fastq} to run pipeline\")\n",
    "\n",
    "print(\"Passed control!\")\n"
   ]
  },
  {
   "cell_type": "markdown",
   "metadata": {},
   "source": [
    "## Run Consensus Sequence Generation\n",
    "\n",
    "Select which consensus sequence generation method you want to use by setting the \"consensus_method\" variable to either:\n",
    "\n",
    "- \"majority\" (default)\n",
    "\n",
    "- \"consensus\"\n",
    "\n",
    "- \"consensus_with_ambiguities\""
   ]
  },
  {
   "cell_type": "code",
   "execution_count": 13,
   "metadata": {},
   "outputs": [
    {
     "name": "stdout",
     "output_type": "stream",
     "text": [
      "Logging set up at output/Convallaria_magalistrnH-psbA_barcode88/consensus/Convallaria_magalistrnH-psbA_barcode88_consensus_pipeline_log.log\n"
     ]
    },
    {
     "data": {
      "text/plain": [
       "(0.2067735195159912, 0.05065131187438965, 0.15612220764160156)"
      ]
     },
     "execution_count": 13,
     "metadata": {},
     "output_type": "execute_result"
    }
   ],
   "source": [
    "# choose a consensus method between the following:\n",
    "# - \"80_20_best_sequence\"\n",
    "# - \"80_20_longest_sequence\"\n",
    "# - \"straightforward_best_sequence\"\n",
    "\n",
    "# consensus_method = \"straightforward_best_sequence\"\n",
    "consensus_method = \"80_20_best_sequence\"\n",
    "\n",
    "run_consensus(input_name= base_name,\n",
    "              expedition_name= input_expedition_folder,\n",
    "              input_fastq_path= input_fastq_path, \n",
    "              consensus_method= consensus_method,\n",
    "              windows= windows)"
   ]
  },
  {
   "cell_type": "markdown",
   "metadata": {},
   "source": [
    "## Run Identification of Consensus Sequence\n",
    "- Run the following cell to identify the consensus sequence.\n",
    "- Change db to the database you want to use. Options are \"matK\", \"rbcL\", \"psbA-trnH\" and \"ITS\". If you want to use all of them, set db to None."
   ]
  },
  {
   "cell_type": "code",
   "execution_count": 14,
   "metadata": {},
   "outputs": [
    {
     "name": "stdout",
     "output_type": "stream",
     "text": [
      "Logging set up at output/Convallaria_magalistrnH-psbA_barcode88/identification/Convallaria_magalistrnH-psbA_barcode88_identification_pipeline_log.log\n",
      "{'psbA-trnH'}\n",
      "Pipeline finished !\n",
      "results can be found in output/Convallaria_magalistrnH-psbA_barcode88\n"
     ]
    }
   ],
   "source": [
    "# choose an identification method between the following:\n",
    "# - \"blastn\"\n",
    "\n",
    "identification_method = \"blastn\"\n",
    "\n",
    "# Choose your db along the genes you're trying to identify : matK, rbcL, psbA-trnH, ITS\n",
    "db = {\"psbA-trnH\"}\n",
    "\n",
    "run_identification(base_name,expedition_name=input_expedition_folder, db=db, identification_method=identification_method, windows=windows)\n",
    "\n",
    "print(\"Pipeline finished !\")\n",
    "print(f\"results can be found in {output_path}\")"
   ]
  }
 ],
 "metadata": {
  "kernelspec": {
   "display_name": "base",
   "language": "python",
   "name": "python3"
  },
  "language_info": {
   "codemirror_mode": {
    "name": "ipython",
    "version": 3
   },
   "file_extension": ".py",
   "mimetype": "text/x-python",
   "name": "python",
   "nbconvert_exporter": "python",
   "pygments_lexer": "ipython3",
   "version": "3.10.11"
  }
 },
 "nbformat": 4,
 "nbformat_minor": 2
}
