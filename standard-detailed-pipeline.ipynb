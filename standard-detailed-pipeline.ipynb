{
 "cells": [
  {
   "cell_type": "markdown",
   "metadata": {},
   "source": [
    "# Jupyter Notebook GenoRobotics Full Pipeline"
   ]
  },
  {
   "cell_type": "markdown",
   "metadata": {},
   "source": [
    "## Imports"
   ]
  },
  {
   "cell_type": "code",
   "execution_count": 28,
   "metadata": {},
   "outputs": [
    {
     "name": "stdout",
     "output_type": "stream",
     "text": [
      "The autoreload extension is already loaded. To reload it, use:\n",
      "  %reload_ext autoreload\n"
     ]
    }
   ],
   "source": [
    "%load_ext autoreload\n",
    "%autoreload 2"
   ]
  },
  {
   "cell_type": "code",
   "execution_count": 29,
   "metadata": {},
   "outputs": [],
   "source": [
    "import os\n",
    "import os.path as ospath\n",
    "from lib.consensus.consensus import run_consensus\n",
    "from lib.identification.identification import run_identification\n",
    "from lib.general_helpers.process_fastq import concatenate_fastq\n",
    "import os.path as ospath"
   ]
  },
  {
   "cell_type": "markdown",
   "metadata": {},
   "source": [
    "## Define Your File and Folder Paths\n",
    "\n",
    "- Modify the \"input_fastq_filename\" variable to point to the fastq you want to use as input. \n",
    "  \n",
    "- Modify wsl if you're on Windows and want to use WSL."
   ]
  },
  {
   "cell_type": "code",
   "execution_count": 30,
   "metadata": {},
   "outputs": [],
   "source": [
    "#for choosing a fastq that is part of an expedition easily\n",
    "input_expedition_folder = \"expedition_jardin_botanique\"\n",
    "barcode_nb = 70\n",
    "windows = False"
   ]
  },
  {
   "cell_type": "code",
   "execution_count": 31,
   "metadata": {},
   "outputs": [],
   "source": [
    "#for standalone fastq files outside any expedition\n",
    "#input_fastq_filename =?\n",
    "#input_expedition_folder = None"
   ]
  },
  {
   "cell_type": "code",
   "execution_count": 32,
   "metadata": {},
   "outputs": [
    {
     "name": "stdout",
     "output_type": "stream",
     "text": [
      "data/expedition_jardin_botanique/Cercidyphyllum_japonicum_ITS_barcode70/Cercidyphyllum_japonicumITS_barcode70.fastq\n",
      "data/expedition_jardin_botanique/Cercidyphyllum_japonicum_ITS_barcode70/Cercidyphyllum_japonicum_reference_seq.fasta\n",
      "Cercidyphyllum_japonicumITS_barcode70\n",
      "output/Cercidyphyllum_japonicumITS_barcode70\n"
     ]
    }
   ],
   "source": [
    "input_expedition_path= ospath.join(\"data\", input_expedition_folder)\n",
    "\n",
    "for root, dirs, files in os.walk(input_expedition_path):\n",
    "    if root.endswith(str(f\"barcode{barcode_nb}\")):\n",
    "        input_folder_path = root\n",
    "\n",
    "for _,_, files in os.walk(input_folder_path):\n",
    "    for file in files:\n",
    "        if file.endswith(\".fastq\"):\n",
    "            input_fastq_path = ospath.join(input_folder_path, file)\n",
    "            input_fastq_filename=file\n",
    "        if file.endswith(\".fasta\"):\n",
    "            input_ref_path = ospath.join(input_folder_path, file)\n",
    "        \n",
    "\n",
    "print(input_fastq_path)\n",
    "print(input_ref_path)\n",
    "base_name = ospath.splitext(input_fastq_filename)[0]\n",
    "print(base_name)\n",
    "\n",
    "output_path = ospath.join(\"output\",base_name)\n",
    "print(output_path)"
   ]
  },
  {
   "cell_type": "markdown",
   "metadata": {},
   "source": [
    "## Run Preprocessing (Optional)\n",
    "\n",
    "- If you want to preprocess your data, run the following cell. Otherwise, skip to the next cell.\n",
    "- For now, preprocessing consists of concatenating all the fastq files in a folder into one file. This is useful if you have multiple fastq files for one sample. You'll have to change the first parameter in the \"concatenate_fastq_files\" function to point to the folder containing your fastq files."
   ]
  },
  {
   "cell_type": "code",
   "execution_count": 33,
   "metadata": {},
   "outputs": [],
   "source": [
    "# preprocessing()\n",
    "#concatenate_fastq(os.path.join(\"assets\", \"input\", \"barcode74\"), input_fastq_path)"
   ]
  },
  {
   "cell_type": "markdown",
   "metadata": {},
   "source": [
    "## Run Consensus Sequence Generation\n",
    "\n",
    "Select which consensus sequence generation method you want to use by setting the \"consensus_method\" variable to either:\n",
    "\n",
    "- \"majority\" (default)\n",
    "\n",
    "- \"consensus\"\n",
    "\n",
    "- \"consensus_with_ambiguities\""
   ]
  },
  {
   "cell_type": "code",
   "execution_count": 34,
   "metadata": {},
   "outputs": [
    {
     "name": "stdout",
     "output_type": "stream",
     "text": [
      "Logging set up at output/expedition_jardin_botanique/Cercidyphyllum_japonicumITS_barcode70/consensus/Cercidyphyllum_japonicumITS_barcode70_consensus_pipeline_log.log\n"
     ]
    },
    {
     "data": {
      "text/plain": [
       "(0.02241992950439453, 0.00931549072265625, 0.013104438781738281)"
      ]
     },
     "execution_count": 34,
     "metadata": {},
     "output_type": "execute_result"
    }
   ],
   "source": [
    "# choose a consensus method between the following:\n",
    "# - \"80_20_best_sequence\"\n",
    "# - \"80_20_longest_sequence\"\n",
    "# - \"straightforward_best_sequence\"\n",
    "\n",
    "# consensus_method = \"straightforward_best_sequence\"\n",
    "consensus_method = \"80_20_best_sequence\"\n",
    "\n",
    "run_consensus(input_name= base_name,\n",
    "              expedition_name= input_expedition_folder,\n",
    "              input_fastq_path= input_fastq_path, \n",
    "              consensus_method= consensus_method,\n",
    "              windows= windows)"
   ]
  },
  {
   "cell_type": "markdown",
   "metadata": {},
   "source": [
    "## Run Identification of Consensus Sequence\n",
    "- Run the following cell to identify the consensus sequence.\n",
    "- Change db to the database you want to use. Options are \"matK\", \"rbcL\", \"psbA-trnH\" and \"ITS\". If you want to use all of them, set db to None."
   ]
  },
  {
   "cell_type": "code",
   "execution_count": 35,
   "metadata": {},
   "outputs": [
    {
     "name": "stdout",
     "output_type": "stream",
     "text": [
      "Logging set up at output/expedition_jardin_botanique/Cercidyphyllum_japonicumITS_barcode70/identification/Cercidyphyllum_japonicumITS_barcode70_identification_pipeline_log.log\n"
     ]
    },
    {
     "name": "stdout",
     "output_type": "stream",
     "text": [
      "Warning: [blastn] Query is Empty!\n",
      "\n"
     ]
    },
    {
     "ename": "ValueError",
     "evalue": "Your XML file was empty",
     "output_type": "error",
     "traceback": [
      "\u001b[0;31m---------------------------------------------------------------------------\u001b[0m",
      "\u001b[0;31mValueError\u001b[0m                                Traceback (most recent call last)",
      "Cell \u001b[0;32mIn[35], line 9\u001b[0m\n\u001b[1;32m      6\u001b[0m \u001b[38;5;66;03m# Choose your db along the gene you're trying to identify : matK, rbcL, psbA-trnH or ITS\u001b[39;00m\n\u001b[1;32m      7\u001b[0m db \u001b[38;5;241m=\u001b[39m \u001b[38;5;124m\"\u001b[39m\u001b[38;5;124mrbcL\u001b[39m\u001b[38;5;124m\"\u001b[39m\n\u001b[0;32m----> 9\u001b[0m \u001b[43mrun_identification\u001b[49m\u001b[43m(\u001b[49m\u001b[43mbase_name\u001b[49m\u001b[43m,\u001b[49m\u001b[43mexpedition_name\u001b[49m\u001b[38;5;241;43m=\u001b[39;49m\u001b[43minput_expedition_folder\u001b[49m\u001b[43m,\u001b[49m\u001b[43m \u001b[49m\u001b[43mdb\u001b[49m\u001b[38;5;241;43m=\u001b[39;49m\u001b[43mdb\u001b[49m\u001b[43m,\u001b[49m\u001b[43m \u001b[49m\u001b[43midentification_method\u001b[49m\u001b[38;5;241;43m=\u001b[39;49m\u001b[43midentification_method\u001b[49m\u001b[43m,\u001b[49m\u001b[43m \u001b[49m\u001b[43mwindows\u001b[49m\u001b[38;5;241;43m=\u001b[39;49m\u001b[43mwindows\u001b[49m\u001b[43m)\u001b[49m\n\u001b[1;32m     11\u001b[0m \u001b[38;5;28mprint\u001b[39m(\u001b[38;5;124m\"\u001b[39m\u001b[38;5;124mPipeline finished !\u001b[39m\u001b[38;5;124m\"\u001b[39m)\n\u001b[1;32m     12\u001b[0m \u001b[38;5;28mprint\u001b[39m(\u001b[38;5;124m\"\u001b[39m\u001b[38;5;124mYou can find your results in the \u001b[39m\u001b[38;5;124m'\u001b[39m\u001b[38;5;124moutput/expeditionName/inputName/identification/\u001b[39m\u001b[38;5;124m'\u001b[39m\u001b[38;5;124m folder\u001b[39m\u001b[38;5;124m\"\u001b[39m)\n",
      "File \u001b[0;32m~/genorobotics/Lemanic-Hackathon/lib/identification/identification.py:48\u001b[0m, in \u001b[0;36mrun_identification\u001b[0;34m(input_name, expedition_name, input_path, output_dir, db, logger, identification_method, windows)\u001b[0m\n\u001b[1;32m     46\u001b[0m logger\u001b[38;5;241m.\u001b[39minfo(\u001b[38;5;124mf\u001b[39m\u001b[38;5;124m\"\u001b[39m\u001b[38;5;124mXML files : \u001b[39m\u001b[38;5;132;01m{\u001b[39;00mxml_files\u001b[38;5;132;01m}\u001b[39;00m\u001b[38;5;124m\"\u001b[39m)\n\u001b[1;32m     47\u001b[0m \u001b[38;5;28;01mfor\u001b[39;00m xml_file, database \u001b[38;5;129;01min\u001b[39;00m xml_files:\n\u001b[0;32m---> 48\u001b[0m     best_species \u001b[38;5;241m=\u001b[39m \u001b[43mget_best_species_from_xml\u001b[49m\u001b[43m(\u001b[49m\u001b[43mxml_file\u001b[49m\u001b[43m)\u001b[49m\n\u001b[1;32m     49\u001b[0m     logger\u001b[38;5;241m.\u001b[39minfo(\u001b[38;5;124mf\u001b[39m\u001b[38;5;124m\"\u001b[39m\u001b[38;5;124mBest species for \u001b[39m\u001b[38;5;132;01m{\u001b[39;00mdatabase\u001b[38;5;132;01m}\u001b[39;00m\u001b[38;5;124m is \u001b[39m\u001b[38;5;132;01m{\u001b[39;00mbest_species[\u001b[38;5;241m0\u001b[39m]\u001b[38;5;132;01m}\u001b[39;00m\u001b[38;5;124m with alignment \u001b[39m\u001b[38;5;132;01m{\u001b[39;00mbest_species[\u001b[38;5;241m1\u001b[39m][\u001b[38;5;241m0\u001b[39m]\u001b[38;5;132;01m}\u001b[39;00m\u001b[38;5;124m and evalue \u001b[39m\u001b[38;5;132;01m{\u001b[39;00mbest_species[\u001b[38;5;241m1\u001b[39m][\u001b[38;5;241m1\u001b[39m]\u001b[38;5;132;01m}\u001b[39;00m\u001b[38;5;124m\"\u001b[39m)\n\u001b[1;32m     51\u001b[0m     best_species_info[database] \u001b[38;5;241m=\u001b[39m {\n\u001b[1;32m     52\u001b[0m         \u001b[38;5;124m\"\u001b[39m\u001b[38;5;124mspecies\u001b[39m\u001b[38;5;124m\"\u001b[39m: best_species[\u001b[38;5;241m0\u001b[39m],\n\u001b[1;32m     53\u001b[0m         \u001b[38;5;124m\"\u001b[39m\u001b[38;5;124malignment\u001b[39m\u001b[38;5;124m\"\u001b[39m: best_species[\u001b[38;5;241m1\u001b[39m][\u001b[38;5;241m0\u001b[39m],\n\u001b[1;32m     54\u001b[0m         \u001b[38;5;124m\"\u001b[39m\u001b[38;5;124mevalue\u001b[39m\u001b[38;5;124m\"\u001b[39m: best_species[\u001b[38;5;241m1\u001b[39m][\u001b[38;5;241m1\u001b[39m]\n\u001b[1;32m     55\u001b[0m     }\n",
      "File \u001b[0;32m~/genorobotics/Lemanic-Hackathon/lib/identification/identification_pipelines/identification_processing.py:107\u001b[0m, in \u001b[0;36mget_best_species_from_xml\u001b[0;34m(input_xml)\u001b[0m\n\u001b[1;32m     93\u001b[0m \u001b[38;5;28;01mdef\u001b[39;00m \u001b[38;5;21mget_best_species_from_xml\u001b[39m(input_xml: \u001b[38;5;28mstr\u001b[39m) \u001b[38;5;241m-\u001b[39m\u001b[38;5;241m>\u001b[39m \u001b[38;5;28mtuple\u001b[39m[\u001b[38;5;28mstr\u001b[39m, \u001b[38;5;28mtuple\u001b[39m[\u001b[38;5;28mint\u001b[39m, \u001b[38;5;28mint\u001b[39m]] :\n\u001b[1;32m     94\u001b[0m \u001b[38;5;250m    \u001b[39m\u001b[38;5;124;03m\"\"\"\u001b[39;00m\n\u001b[1;32m     95\u001b[0m \u001b[38;5;124;03m    Get the best species from a blastn XML file, by following these steps:\u001b[39;00m\n\u001b[1;32m     96\u001b[0m \u001b[38;5;124;03m    1. Parse the XML file.\u001b[39;00m\n\u001b[0;32m   (...)\u001b[0m\n\u001b[1;32m    105\u001b[0m \u001b[38;5;124;03m    tuple[str, tuple[int, int]]: A tuple containing the best species name and a tuple of two integers representing the start and end positions of the best species in the input XML file??? no i think it's evalue and alignment score\u001b[39;00m\n\u001b[1;32m    106\u001b[0m \u001b[38;5;124;03m    \"\"\"\u001b[39;00m\n\u001b[0;32m--> 107\u001b[0m     results \u001b[38;5;241m=\u001b[39m \u001b[43mparse_blastn_xml\u001b[49m\u001b[43m(\u001b[49m\u001b[43minput_xml\u001b[49m\u001b[43m)\u001b[49m\n\u001b[1;32m    108\u001b[0m     species \u001b[38;5;241m=\u001b[39m separate_by_species(results)\n\u001b[1;32m    109\u001b[0m     reduced_results \u001b[38;5;241m=\u001b[39m reduce_species_results(species)\n",
      "File \u001b[0;32m~/genorobotics/Lemanic-Hackathon/lib/identification/identification_pipelines/identification_processing.py:17\u001b[0m, in \u001b[0;36mparse_blastn_xml\u001b[0;34m(input_xml)\u001b[0m\n\u001b[1;32m     15\u001b[0m blast_records \u001b[38;5;241m=\u001b[39m NCBIXML\u001b[38;5;241m.\u001b[39mparse(file)\n\u001b[1;32m     16\u001b[0m results \u001b[38;5;241m=\u001b[39m []\n\u001b[0;32m---> 17\u001b[0m \u001b[38;5;28;01mfor\u001b[39;00m blast_record \u001b[38;5;129;01min\u001b[39;00m blast_records:\n\u001b[1;32m     18\u001b[0m     \u001b[38;5;28;01mfor\u001b[39;00m alignment \u001b[38;5;129;01min\u001b[39;00m blast_record\u001b[38;5;241m.\u001b[39malignments:\n\u001b[1;32m     19\u001b[0m         \u001b[38;5;28;01mfor\u001b[39;00m hsp \u001b[38;5;129;01min\u001b[39;00m alignment\u001b[38;5;241m.\u001b[39mhsps:\n",
      "File \u001b[0;32m~/anaconda3/envs/genorobotics_pipeline/lib/python3.10/site-packages/Bio/Blast/NCBIXML.py:799\u001b[0m, in \u001b[0;36mparse\u001b[0;34m(handle, debug)\u001b[0m\n\u001b[1;32m    795\u001b[0m     pending \u001b[38;5;241m=\u001b[39m \u001b[38;5;124mb\u001b[39m\u001b[38;5;124m\"\u001b[39m\u001b[38;5;124m\"\u001b[39m\n\u001b[1;32m    797\u001b[0m \u001b[38;5;28;01mif\u001b[39;00m \u001b[38;5;129;01mnot\u001b[39;00m text:\n\u001b[1;32m    798\u001b[0m     \u001b[38;5;66;03m# NO DATA FOUND!\u001b[39;00m\n\u001b[0;32m--> 799\u001b[0m     \u001b[38;5;28;01mraise\u001b[39;00m \u001b[38;5;167;01mValueError\u001b[39;00m(\u001b[38;5;124m\"\u001b[39m\u001b[38;5;124mYour XML file was empty\u001b[39m\u001b[38;5;124m\"\u001b[39m)\n\u001b[1;32m    801\u001b[0m \u001b[38;5;28;01mwhile\u001b[39;00m text:\n\u001b[1;32m    802\u001b[0m     \u001b[38;5;66;03m# We are now starting a new XML file\u001b[39;00m\n\u001b[1;32m    803\u001b[0m     \u001b[38;5;28;01mif\u001b[39;00m \u001b[38;5;129;01mnot\u001b[39;00m text\u001b[38;5;241m.\u001b[39mstartswith(XML_START):\n",
      "\u001b[0;31mValueError\u001b[0m: Your XML file was empty"
     ]
    }
   ],
   "source": [
    "# choose an identification method between the following:\n",
    "# - \"blastn\"\n",
    "\n",
    "identification_method = \"blastn\"\n",
    "\n",
    "# Choose your db along the gene you're trying to identify : matK, rbcL, psbA-trnH or ITS\n",
    "db = \"rbcL\"\n",
    "\n",
    "run_identification(base_name,expedition_name=input_expedition_folder, db=db, identification_method=identification_method, windows=windows)\n",
    "\n",
    "print(\"Pipeline finished !\")\n",
    "print(\"You can find your results in the 'output/expeditionName/inputName/identification/' folder\")"
   ]
  }
 ],
 "metadata": {
  "kernelspec": {
   "display_name": "base",
   "language": "python",
   "name": "python3"
  },
  "language_info": {
   "codemirror_mode": {
    "name": "ipython",
    "version": 3
   },
   "file_extension": ".py",
   "mimetype": "text/x-python",
   "name": "python",
   "nbconvert_exporter": "python",
   "pygments_lexer": "ipython3",
   "version": "3.10.11"
  }
 },
 "nbformat": 4,
 "nbformat_minor": 2
}
