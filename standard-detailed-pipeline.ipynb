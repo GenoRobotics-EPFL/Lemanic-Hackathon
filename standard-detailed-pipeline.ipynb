{
 "cells": [
  {
   "cell_type": "markdown",
   "metadata": {},
   "source": [
    "# Jupyter Notebook GenoRobotics Full Pipeline"
   ]
  },
  {
   "cell_type": "markdown",
   "metadata": {},
   "source": [
    "## Imports"
   ]
  },
  {
   "cell_type": "code",
   "execution_count": null,
   "metadata": {},
   "outputs": [],
   "source": [
    "%load_ext autoreload\n",
    "%autoreload 2"
   ]
  },
  {
   "cell_type": "code",
   "execution_count": null,
   "metadata": {},
   "outputs": [],
   "source": [
    "import os\n",
    "import os.path as ospath\n",
    "from lib.consensus.consensus import run_consensus\n",
    "from lib.identification.identification import run_identification\n",
    "from lib.general_helpers.process_fastq import concatenate_fastq"
   ]
  },
  {
   "cell_type": "markdown",
   "metadata": {},
   "source": [
    "## Define Your File and Folder Paths\n",
    "\n",
    "- Modify the \"input_fastq_filename\" variable to point to the fastq you want to use as input. \n",
    "  \n",
    "- Modify wsl if you're on Windows and want to use WSL."
   ]
  },
  {
   "cell_type": "code",
   "execution_count": null,
   "metadata": {},
   "outputs": [],
   "source": [
    "#for choosing a fastq that is part of an expedition easily\n",
    "input_expedition_folder = \"summer_expedition\"\n",
    "barcode_nb = 9\n",
    "windows = False"
   ]
  },
  {
   "cell_type": "code",
   "execution_count": null,
   "metadata": {},
   "outputs": [],
   "source": [
    "#for standalone fastq files outside any expedition\n",
    "input_fastq_filename = ?\n",
    "input_expedition_folder = None"
   ]
  },
  {
   "cell_type": "code",
   "execution_count": null,
   "metadata": {},
   "outputs": [],
   "source": [
    "input_expedition_path= ospath.join(\"data\", input_expedition_folder)\n",
    "\n",
    "for root, dirs, files in os.walk(input_expedition_path):\n",
    "    if root.endswith(str(barcode_nb)):\n",
    "        input_folder_path = root\n",
    "\n",
    "for _,_, files in os.walk(input_folder_path):\n",
    "    for file in files:\n",
    "        if file.endswith(\".fastq\"):\n",
    "            input_fastq_path = ospath.join(input_folder_path, file)\n",
    "            input_fastq_filename=file\n",
    "        if file.endswith(\".fasta\"):\n",
    "            input_ref_path = ospath.join(input_folder_path, file)\n",
    "        \n",
    "\n",
    "print(input_fastq_path)\n",
    "print(input_ref_path)\n",
    "base_name = ospath.splitext(input_fastq_filename)[0]\n",
    "print(base_name)\n",
    "\n",
    "output_path = ospath.join(\"output\",base_name)\n",
    "print(output_path)"
   ]
  },
  {
   "cell_type": "markdown",
   "metadata": {},
   "source": [
    "## Run Preprocessing (Optional)\n",
    "\n",
    "- If you want to preprocess your data, run the following cell. Otherwise, skip to the next cell.\n",
    "- For now, preprocessing consists of concatenating all the fastq files in a folder into one file. This is useful if you have multiple fastq files for one sample. You'll have to change the first parameter in the \"concatenate_fastq_files\" function to point to the folder containing your fastq files."
   ]
  },
  {
   "cell_type": "code",
   "execution_count": null,
   "metadata": {},
   "outputs": [],
   "source": [
    "# preprocessing()\n",
    "#concatenate_fastq(os.path.join(\"assets\", \"input\", \"barcode74\"), input_fastq_path)"
   ]
  },
  {
   "cell_type": "markdown",
   "metadata": {},
   "source": [
    "## Run Consensus Sequence Generation\n",
    "\n",
    "Select which consensus sequence generation method you want to use by setting the \"consensus_method\" variable to either:\n",
    "\n",
    "- \"majority\" (default)\n",
    "\n",
    "- \"consensus\"\n",
    "\n",
    "- \"consensus_with_ambiguities\""
   ]
  },
  {
   "cell_type": "code",
   "execution_count": null,
   "metadata": {},
   "outputs": [],
   "source": [
    "# choose a consensus method between the following:\n",
    "# - \"80_20_best_sequence\"\n",
    "# - \"80_20_longest_sequence\"\n",
    "# - \"straightforward_best_sequence\"\n",
    "\n",
    "# consensus_method = \"straightforward_best_sequence\"\n",
    "consensus_method = \"80_20_best_sequence\"\n",
    "\n",
    "run_consensus(input_name= base_name,\n",
    "              expedition_name= input_expedition_folder,\n",
    "              input_fastq_path= input_fastq_path, \n",
    "              consensus_method= consensus_method,\n",
    "              windows= windows)"
   ]
  },
  {
   "cell_type": "markdown",
   "metadata": {},
   "source": [
    "## Run Identification of Consensus Sequence\n",
    "- Run the following cell to identify the consensus sequence.\n",
    "- Change db to the database you want to use. Options are \"matK\", \"rbcL\", \"psbA-trnH\" and \"ITS\". If you want to use all of them, set db to None."
   ]
  },
  {
   "cell_type": "code",
   "execution_count": null,
   "metadata": {},
   "outputs": [],
   "source": [
    "# choose an identification method between the following:\n",
    "# - \"blastn\"\n",
    "\n",
    "identification_method = \"blastn\"\n",
    "\n",
    "# Choose your db along the gene you're trying to identify : matK, rbcL, psbA-trnH or ITS\n",
    "db = \"rbcL\"\n",
    "\n",
    "run_identification(base_name,expedition_name=input_expedition_folder, db=db, identification_method=identification_method, windows=windows)\n",
    "\n",
    "print(\"Pipeline finished !\")\n",
    "print(\"You can find your results in the 'output/expeditionName/inputName/identification/' folder\")"
   ]
  }
 ],
 "metadata": {
  "kernelspec": {
   "display_name": "base",
   "language": "python",
   "name": "python3"
  },
  "language_info": {
   "codemirror_mode": {
    "name": "ipython",
    "version": 3
   },
   "file_extension": ".py",
   "mimetype": "text/x-python",
   "name": "python",
   "nbconvert_exporter": "python",
   "pygments_lexer": "ipython3",
   "version": "3.10.11"
  }
 },
 "nbformat": 4,
 "nbformat_minor": 2
}
