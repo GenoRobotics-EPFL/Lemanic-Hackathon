{
 "cells": [
  {
   "cell_type": "code",
   "execution_count": 30,
   "metadata": {},
   "outputs": [],
   "source": [
    "from lib.consensus.consensus import run_consensus\n",
    "from lib.consensus.consensus_helpers.best_alignment import compute_alignment_score\n",
    "import os \n",
    "from Bio import SeqIO\n",
    "import os.path as ospath\n",
    "from Bio import pairwise2\n",
    "import matplotlib.pyplot as plt"
   ]
  },
  {
   "cell_type": "code",
   "execution_count": 31,
   "metadata": {},
   "outputs": [
    {
     "name": "stdout",
     "output_type": "stream",
     "text": [
      "True\n",
      "Logging set up at /home/ghassan_unix/genorobotics/Lemanic-Hackathon/output/Iris_sibirica_test_80_20/Iris_sibirica_test_80_20_consensus_pipeline_log.log\n"
     ]
    },
    {
     "name": "stderr",
     "output_type": "stream",
     "text": [
      "WARNING:root:Warning: /home/ghassan_unix/genorobotics/Lemanic-Hackathon/output/Iris_sibirica_test_80_20/Iris_sibirica_test_80_20_top20_consensus.fasta contains more than one sequence. Taking the longest one.\n"
     ]
    },
    {
     "name": "stdout",
     "output_type": "stream",
     "text": [
      "Minimap2 alignment took 0.50 seconds.\n",
      "Total Racon iterations took 0.86 seconds.\n",
      "Total time taken for the consensus pipeline: 1.37 seconds.\n"
     ]
    }
   ],
   "source": [
    "test_name= \"Iris_sibirica_test_80_20\"\n",
    "input_folder = ospath.join(\"data\",\"expedition_jardin_botanique\",\"Iris_sibirica_rbcL_barcode80\")\n",
    "print(ospath.exists(input_folder))\n",
    "total_time, time_minimap2, time_racon= run_consensus(test_name, ospath.join(input_folder,\"Iris_sibiricarbcL_barcode80.fastq\"), consensus_method=\"80_20_longest_sequence\", output_dir=ospath.join(os.getcwd(), \"output\", test_name))"
   ]
  },
  {
   "cell_type": "code",
   "execution_count": 33,
   "metadata": {},
   "outputs": [
    {
     "name": "stdout",
     "output_type": "stream",
     "text": [
      "final alignment:  405.0\n",
      "top20 alignment:  406.0\n",
      "CA--AAC------AG---A-G--AC--T----AA---A-G--CA-AG--T-G---TT-G-----G-ATTTA-----AA--GCT---G-GTGTTAAA---GAT-------T--AC--A-G-ATTGACTTA-T-TA-TACTCCTGA-TTA-C-GAA-A---CCAAAGA--T---A--C------TGATA---TCTTGGC-A--G--CA-TTC-CGA-GTA--------ACTCCTCAA-CC--CGGAGTTCC--TG-CCGA-AGAA----GCG----GGG--G--C-TGCGGTAGC-TGCC-G-A--A-T----C-------TTC-----T-ACTG-GTACATGGA-C-----AAC-AGT---G---TGGACTGA-TGGACTTACCA-G-TC-T-----TGA-TCG-TTAC-A-AAG--GACG-ATGCTACC-ACATCGAGGC--CGTTG---TTGGG-GA----GGAA---AATCAATATATTGCTTATGTAGCT--TATCCTTTAGACCTTTT--TG--AAGAGGGT-TCTGTTA--CTA-ACATGTTTACT-----TCCATT-G--TGGG-T-AACGTAT--TTGGTTTCAAAGCCCTACGAGCTCTACG-TCT-GGAAG--A-TC-TGCGAGTTCCTCCTGCTT-ATTCCAAAACTT-TCCAAGGC--C--C-ACCTCATGGCATC-CAGGTTGAA-AG--AGATAA--ATTGAACA--AGT-A--TGGTCG-TCCC-CTAT-TG-G---GA--TGTAC--T--ATTA-A-ACCAAAATTGGGATTATCCGCAAAAAATT---ACGGTAGAGCGGTTTA--T-G--AATGTCT--AC--GCG---GTGGACTTGATTTT-ACA\n",
      "||  |||      ||   | |  |   |    ||   | |  || ||  | |   || |     | |||||     ||  |||   | || ||      | |       |  ||  | | ||||  ||| | |  || |  ||  ||| | ||| |   || |||   |   |  |      ||| |   | ||||  |  |  || ||  | | ||         ||||||| | ||  |    ||||  |  || | | ||    | |    |||  |  | | |  | || | || | |  | |    |       |||     | | || ||   |||  |     ||| | |   |   |||| ||  ||||  ||  | | || |     | | ||  || | | ||   || | |||  |   || ||  ||   | ||    ||||| ||    || |   |||| | | ||| |     |  ||  ||   ||| ||    ||  ||  || |   | | || ||  | | |||| |||||      ||||   |  |||| | |||  |   || | |||   |    | ||| | |  | | | || ||  | || | |||  | ||  ||||| | | |    | | | | |||   |  | |||| |   |||  ||     || |   || |    ||| |||   | | |  |  | | |    || | |  |   ||  || ||  |  | || | | |  |||| || || |  |       ||   ||||  | ||||   |  | |  || |  |  ||  | |   ||||| |||    | | |\n",
      "CATCAACGCGTTCAGTTGAAGGTA-GGTGTTTAACGGATGAACATAGGATAGCGATTCGTTTTCGCATTTATCGTGAAACGCTTTCGCGT-TT---TTCG-TGCGCCGCTTCACTGATGGATTG--TTACTGT-GTA-T--TG-CTTAACTGAACAGTACC-AAG-CCTTTCATTCAAAAAATGA-AAGGT-TTGG-TACTGTTCAATT-TC-ATGT-TTGTTGTTACTCCTC-ATCCTTC----TTCCCAT-TCC-ATA-AATAATG-GATATGGGCAGTTCCT-C--T-GCAT-CCAGCAGGAATTGAACCCGCGAGTTCGCCAATTA-TGAGT---TGG-GCGCTTTAACCA-TTCAGCCATGGA-TG-CTGGA--TA--AAGATCATAAACAT-AGTC-ATT-CTATAA-ATGA-GTATG--A--GAC-TC--GG-ATC-TT-AAATTGGGTGATTCAGG-ACCCAATC-A-A-ATT-C-----T--CTCGTA---TTT-GA----TTCATGTCAA-A---TAT-TG-TAAAC-AGACAT-TTTAC-AGAGGTCCA--AGGCTGGGCTGAAC--A-ACTT-G-TTC---G----A-GAG-T-T--GGT-TAGG-AGCTAGTCAT-CGA--T-CT--TGCTTGA-T-C----C-TGT-C-AGG-GTCGTCGACCT-A---CAT-ACA-----AACA-TTAG-T--TCATT-AAC-CTA-TCAAAT--T-GAT---TCT-TCT-TGTAAGAAATG-ACCGTGGA-TAGAGA-C--AATT-GG-TT-T--G-------TTTTTACGG--G-GCGG---ACGTAGCCAA-G--TGGACAAG-GCAAGTGGA-TTG----TGA-A\n",
      "  Score=405\n",
      "\n",
      "CA--AAC------AG---A-G--AC--T----AA---A-G--CA-AG--T-G---TT-G-----G-ATTT-A-----AA--GCT---G-GTGTTAAA---GAT-------T--AC--A-G-ATTGACTTA-T-TA-TACT--C----CTGATTAC-G-A--AA-CC----AAAGATAC--TGATA--TCTTGGC-A--G--CA-TTC-CGA-GTA--------ACTCCTCAA-CC--CGGAGTTCC--TG-CCGA-AGAAGC----GG----GGGCT-G--CGGTAGCTGCCGA-ATCTTCTA-CT-GGTACATG-GACAAC-----AGTGTG-GAC---T---GA-T-GGA-C--TT-A-CCAGTCTT--G--ATCG--T--T--AC-AAAGGA-CGATG---C-TAC--CA--C-ATC-----GAG----G-C-CG-T-TGT---T-GGG-GA---GG-A-A--AATCAATATATTGCTTATGTAGCTT-ATCC-TTTAGACCTTTT--TG--AAGAGGGT-TCTGTTA--CTA-ACATGTTTACT-----TCCATT-G--TGGG-T-AACGTAT--TTGGTTTCAAAGCCCTACGAGCTCTACG-TCT-GGAAG--A-TC-TGCGAGTTCCTCCTGCTT-ATTCCAAAACTT-TCCAAGGC--C--C-ACCTCATGGCATC-CAGGTTGAA-AG--AGATAA--ATTGAACA--AGT-A--TGGTCG-TCCC-CTAT-TG-G---GA--TGTAC--T--ATTA-A-ACCAAAATTGGGATTATCCGCAAAAAATT---ACGGTAGAGCGGTTTA--T-G--AATGTCT--AC--GCG---GTGGACTTGATTTT-ACA\n",
      "||  |||      ||   | |  |   |    ||   | |  || ||  | |   || |     | |||| |     ||  |||   | || ||      | |       |  ||  | | ||||  ||| | |  || |  |    ||||  || | |  || ||    ||| | |   ||| |  | ||||  |  |  || ||  | | ||         ||||||| | ||  |    ||||  |  || | | ||      ||    ||||  |  |  |  || |||  |||  | | |  || | ||  |  |||     ||| |  | |   |   || | ||  |  || | |||   ||  |  || |  |  |  |  ||| || | ||    | ||   ||  | ||      |||    | | || | | |   | ||| ||   || | |  |||| | | ||| |     |  | | ||   ||| ||    ||  ||  || |   | | || ||  | | |||| |||||      ||||   |  |||| | |||  |   || | |||   |    | ||| | |  | | | || ||  | || | |||  | ||  ||||| | | |    | | | | |||   |  | |||| |   |||  ||     || |   || |    ||| |||   | | |  |  | | |    || | |  |   ||  || ||  |  | || | | |  |||| || || |  |       ||   ||||  | ||||   |  | |  || |  |  ||  | |   ||||| |||    | | |\n",
      "CATCAACGCGTTCAGTTGAAGGTA-GGTGTTTAACGGATGAACATAGGATAGCGATTCGTTTTCGCATTTTATCGTGAAACGCTTTCGCGT-TT---TTCG-TGCGCCGCTTCACTGATGGATTG--TTACTGT-GTA-TTGCTTAACTGA--ACAGTACCAAGCCTTTCAAA-A-A-AATGA-AGGT-TTGG-TACTGTTCAATT-TC-ATGT-TTGTTGTTACTCCTC-ATCCTTC----TTCCCAT-TCC-ATA-AA--TAATGGATATGGGC-AGTTC--T--CT-CCG-CATC--C-AGC-AGG-A-AT-TG--AACCCGCGAGT-T-CG-CCAATTATGAGTTGG-GCGCTTTAACCA---TTCAGCCAT-GGATGCTGGA-TAAA-GATC-AT-AAACATA-GTCATTCTAT-AATATGAGTATAGACTCGATCT-TAAATTGGGTGATTCGGGATACCAATC-A-A-ATT-C-----T--C-TCAT--ATTT-GA----TTCATGTCAA-A---TAT-TG-TAAAC-AGACAT-TTTAC-AGAGGTCCA--AGGCTGGGCTGAAC--A-ACTT-G-TTC---G----A-GAG-T-T--GGT-TAGG-AGCTAGTCAT-CGA--T-CT--TGCTTGA-T-C----C-TGT-C-AGG-GTCGTCGACCT-A---CAT-ACA-----AACA-TTAG-T--TCATT-AAC-CTA-TCAAAT--T-GAT---TCT-TCT-TGTAAGAAATG-ACCGTGGA-TAGAGA-C--AATT-GG-TT-T--G-------TTTTTACGG--G-GCGG---ACGTAGCCAA-G--TGGACAAG-GCAAGTGGA-TTG----TGA-A\n",
      "  Score=406\n",
      "\n"
     ]
    }
   ],
   "source": [
    "ref_seq = SeqIO.read(ospath.join(input_folder,\"Iris_sibirica_reference_seq.fasta\"), \"fasta\")\n",
    "final_consensus_sequence = SeqIO.read(ospath.join(os.getcwd(), \"output\", \"Iris_sibirica_test_80_20\",\"Iris_sibirica_test_80_20_final_consensus.fasta\"), \"fasta\")\n",
    "top20_consensus_sequence = SeqIO.read(ospath.join(os.getcwd(), \"output\", \"Iris_sibirica_test_80_20\", \"Iris_sibirica_test_80_20_top20_consensus.fasta\"), \"fasta\")\n",
    "alignment_final = pairwise2.align.globalxx(ref_seq.seq, final_consensus_sequence.seq, one_alignment_only=True)\n",
    "alignment_top20 = pairwise2.align.globalxx(ref_seq.seq, top20_consensus_sequence.seq, one_alignment_only=True)\n",
    "print(\"final alignment: \", alignment_final[0].score)\n",
    "print(\"top20 alignment: \", alignment_top20[0].score)\n",
    "print(pairwise2.format_alignment(*alignment_final[0]))\n",
    "print(pairwise2.format_alignment(*alignment_top20[0]))"
   ]
  },
  {
   "cell_type": "code",
   "execution_count": 11,
   "metadata": {},
   "outputs": [
    {
     "data": {
      "text/plain": [
       "(array([  0.,   0.,   0.,   0.,   0., 658.,   0.,   0.,   0.,   0.]),\n",
       " array([211.5, 211.6, 211.7, 211.8, 211.9, 212. , 212.1, 212.2, 212.3,\n",
       "        212.4, 212.5]),\n",
       " <BarContainer object of 10 artists>)"
      ]
     },
     "execution_count": 11,
     "metadata": {},
     "output_type": "execute_result"
    },
    {
     "data": {
      "image/png": "[encoded data removed]",
      "text/plain": [
       "<Figure size 640x480 with 1 Axes>"
      ]
     },
     "metadata": {},
     "output_type": "display_data"
    }
   ],
   "source": [
    "ref_seq = SeqIO.read(ospath.join(input_folder,\"Photinia_davidiana_reference_seq.fasta\"), \"fasta\")\n",
    "consensus_sequences = list(SeqIO.parse(ospath.join(\"output\", test_name, \"photinia_davidiana_test_all_final_consensus.fasta\"), \"fasta\"))\n",
    "list_of_scores=[]\n",
    "n=0\n",
    "for seq in consensus_sequences:\n",
    "    alignments = pairwise2.align.globalxx(ref_seq.seq, consensus_sequences[0].seq, one_alignment_only=True)\n",
    "    list_of_scores.append(alignments[0].score)\n",
    "    n+=1\n",
    "    #if n>=50:\n",
    "     #   break\n",
    "plt.hist(list_of_scores)"
   ]
  }
 ],
 "metadata": {
  "kernelspec": {
   "display_name": "genorobotics_pipeline",
   "language": "python",
   "name": "python3"
  },
  "language_info": {
   "codemirror_mode": {
    "name": "ipython",
    "version": 3
   },
   "file_extension": ".py",
   "mimetype": "text/x-python",
   "name": "python",
   "nbconvert_exporter": "python",
   "pygments_lexer": "ipython3",
   "version": "3.10.11"
  }
 },
 "nbformat": 4,
 "nbformat_minor": 2
}
